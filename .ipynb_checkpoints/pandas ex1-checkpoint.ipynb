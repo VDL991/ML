{
 "cells": [
  {
   "cell_type": "code",
   "execution_count": 5,
   "id": "6c0ed003-8a83-4d0e-8d27-bc3ecf891bc1",
   "metadata": {},
   "outputs": [],
   "source": [
    "import pandas as pd\n",
    "import numpy as np"
   ]
  },
  {
   "cell_type": "markdown",
   "id": "61b7f803-0db1-41a2-b965-0fc7a344525f",
   "metadata": {},
   "source": [
    "# playing with dataframe"
   ]
  },
  {
   "cell_type": "code",
   "execution_count": 7,
   "id": "1ca87ae4-f59a-4630-8a33-65e34128d113",
   "metadata": {},
   "outputs": [],
   "source": [
    "df = pd.DataFrame(np.arange(0,20).reshape(5,4), index = ['Row1', 'Row2', 'Row3', 'Row4','Row5'], columns=['column1','column2','column3','column4'])"
   ]
  },
  {
   "cell_type": "code",
   "execution_count": 8,
   "id": "b9a9f762-6336-4edf-8db2-7b5f73ede188",
   "metadata": {},
   "outputs": [
    {
     "data": {
      "text/html": [
       "<div>\n",
       "<style scoped>\n",
       "    .dataframe tbody tr th:only-of-type {\n",
       "        vertical-align: middle;\n",
       "    }\n",
       "\n",
       "    .dataframe tbody tr th {\n",
       "        vertical-align: top;\n",
       "    }\n",
       "\n",
       "    .dataframe thead th {\n",
       "        text-align: right;\n",
       "    }\n",
       "</style>\n",
       "<table border=\"1\" class=\"dataframe\">\n",
       "  <thead>\n",
       "    <tr style=\"text-align: right;\">\n",
       "      <th></th>\n",
       "      <th>column1</th>\n",
       "      <th>column2</th>\n",
       "      <th>column3</th>\n",
       "      <th>column4</th>\n",
       "    </tr>\n",
       "  </thead>\n",
       "  <tbody>\n",
       "    <tr>\n",
       "      <th>Row1</th>\n",
       "      <td>0</td>\n",
       "      <td>1</td>\n",
       "      <td>2</td>\n",
       "      <td>3</td>\n",
       "    </tr>\n",
       "    <tr>\n",
       "      <th>Row2</th>\n",
       "      <td>4</td>\n",
       "      <td>5</td>\n",
       "      <td>6</td>\n",
       "      <td>7</td>\n",
       "    </tr>\n",
       "    <tr>\n",
       "      <th>Row3</th>\n",
       "      <td>8</td>\n",
       "      <td>9</td>\n",
       "      <td>10</td>\n",
       "      <td>11</td>\n",
       "    </tr>\n",
       "    <tr>\n",
       "      <th>Row4</th>\n",
       "      <td>12</td>\n",
       "      <td>13</td>\n",
       "      <td>14</td>\n",
       "      <td>15</td>\n",
       "    </tr>\n",
       "    <tr>\n",
       "      <th>Row5</th>\n",
       "      <td>16</td>\n",
       "      <td>17</td>\n",
       "      <td>18</td>\n",
       "      <td>19</td>\n",
       "    </tr>\n",
       "  </tbody>\n",
       "</table>\n",
       "</div>"
      ],
      "text/plain": [
       "      column1  column2  column3  column4\n",
       "Row1        0        1        2        3\n",
       "Row2        4        5        6        7\n",
       "Row3        8        9       10       11\n",
       "Row4       12       13       14       15\n",
       "Row5       16       17       18       19"
      ]
     },
     "execution_count": 8,
     "metadata": {},
     "output_type": "execute_result"
    }
   ],
   "source": [
    "df.head()"
   ]
  },
  {
   "cell_type": "code",
   "execution_count": 9,
   "id": "fd84b7a1-cb46-4161-8f24-7b5a4621b1d8",
   "metadata": {},
   "outputs": [],
   "source": [
    "df.to_csv('Test1.csv')"
   ]
  },
  {
   "cell_type": "code",
   "execution_count": 11,
   "id": "b05e9eb3-c09f-4ced-a895-673d581fd522",
   "metadata": {},
   "outputs": [
    {
     "data": {
      "text/plain": [
       "pandas.core.series.Series"
      ]
     },
     "execution_count": 11,
     "metadata": {},
     "output_type": "execute_result"
    }
   ],
   "source": [
    "# Accessing the elements \n",
    "type(df.loc['Row1'])"
   ]
  },
  {
   "cell_type": "code",
   "execution_count": 14,
   "id": "f9705407-f993-4cc6-a68c-67bd300bfab3",
   "metadata": {},
   "outputs": [
    {
     "data": {
      "text/plain": [
       "pandas.core.frame.DataFrame"
      ]
     },
     "execution_count": 14,
     "metadata": {},
     "output_type": "execute_result"
    }
   ],
   "source": [
    "type(df.iloc[0:3,0:1])"
   ]
  },
  {
   "cell_type": "code",
   "execution_count": 15,
   "id": "ed2f19c1-4812-4d62-9bb2-cbbc3af74255",
   "metadata": {},
   "outputs": [
    {
     "data": {
      "text/html": [
       "<div>\n",
       "<style scoped>\n",
       "    .dataframe tbody tr th:only-of-type {\n",
       "        vertical-align: middle;\n",
       "    }\n",
       "\n",
       "    .dataframe tbody tr th {\n",
       "        vertical-align: top;\n",
       "    }\n",
       "\n",
       "    .dataframe thead th {\n",
       "        text-align: right;\n",
       "    }\n",
       "</style>\n",
       "<table border=\"1\" class=\"dataframe\">\n",
       "  <thead>\n",
       "    <tr style=\"text-align: right;\">\n",
       "      <th></th>\n",
       "      <th>column2</th>\n",
       "      <th>column3</th>\n",
       "      <th>column4</th>\n",
       "    </tr>\n",
       "  </thead>\n",
       "  <tbody>\n",
       "    <tr>\n",
       "      <th>Row1</th>\n",
       "      <td>1</td>\n",
       "      <td>2</td>\n",
       "      <td>3</td>\n",
       "    </tr>\n",
       "    <tr>\n",
       "      <th>Row2</th>\n",
       "      <td>5</td>\n",
       "      <td>6</td>\n",
       "      <td>7</td>\n",
       "    </tr>\n",
       "    <tr>\n",
       "      <th>Row3</th>\n",
       "      <td>9</td>\n",
       "      <td>10</td>\n",
       "      <td>11</td>\n",
       "    </tr>\n",
       "    <tr>\n",
       "      <th>Row4</th>\n",
       "      <td>13</td>\n",
       "      <td>14</td>\n",
       "      <td>15</td>\n",
       "    </tr>\n",
       "    <tr>\n",
       "      <th>Row5</th>\n",
       "      <td>17</td>\n",
       "      <td>18</td>\n",
       "      <td>19</td>\n",
       "    </tr>\n",
       "  </tbody>\n",
       "</table>\n",
       "</div>"
      ],
      "text/plain": [
       "      column2  column3  column4\n",
       "Row1        1        2        3\n",
       "Row2        5        6        7\n",
       "Row3        9       10       11\n",
       "Row4       13       14       15\n",
       "Row5       17       18       19"
      ]
     },
     "execution_count": 15,
     "metadata": {},
     "output_type": "execute_result"
    }
   ],
   "source": [
    "# Take the elemenst from the column2\n",
    "df.iloc[:,1:]"
   ]
  },
  {
   "cell_type": "code",
   "execution_count": 16,
   "id": "cefb5fe4-e504-4600-a24e-8069322de4e4",
   "metadata": {},
   "outputs": [
    {
     "data": {
      "text/plain": [
       "array([[ 1,  2,  3],\n",
       "       [ 5,  6,  7],\n",
       "       [ 9, 10, 11],\n",
       "       [13, 14, 15],\n",
       "       [17, 18, 19]])"
      ]
     },
     "execution_count": 16,
     "metadata": {},
     "output_type": "execute_result"
    }
   ],
   "source": [
    "# convert Data frames into array \n",
    "df.iloc[:,1:].values"
   ]
  },
  {
   "cell_type": "code",
   "execution_count": 17,
   "id": "5a5aeba9-ee87-485e-88eb-e22a032a7377",
   "metadata": {},
   "outputs": [
    {
     "data": {
      "text/plain": [
       "(5, 3)"
      ]
     },
     "execution_count": 17,
     "metadata": {},
     "output_type": "execute_result"
    }
   ],
   "source": [
    "df.iloc[:,1:].values.shape"
   ]
  },
  {
   "cell_type": "code",
   "execution_count": 18,
   "id": "a4b1392e-f1f5-4650-81cb-2471be120c9f",
   "metadata": {},
   "outputs": [
    {
     "data": {
      "text/plain": [
       "column1    0\n",
       "column2    0\n",
       "column3    0\n",
       "column4    0\n",
       "dtype: int64"
      ]
     },
     "execution_count": 18,
     "metadata": {},
     "output_type": "execute_result"
    }
   ],
   "source": [
    "# check the null condition\n",
    "df.isnull().sum()"
   ]
  },
  {
   "cell_type": "code",
   "execution_count": 20,
   "id": "c7b26026-384b-435f-a79d-b74b3b0b0099",
   "metadata": {},
   "outputs": [
    {
     "data": {
      "text/plain": [
       "column1\n",
       "0     1\n",
       "4     1\n",
       "8     1\n",
       "12    1\n",
       "16    1\n",
       "Name: count, dtype: int64"
      ]
     },
     "execution_count": 20,
     "metadata": {},
     "output_type": "execute_result"
    }
   ],
   "source": [
    "df['column1'].value_counts()"
   ]
  },
  {
   "cell_type": "code",
   "execution_count": 22,
   "id": "cab55356-ff7c-4a62-a600-25c799107ac3",
   "metadata": {},
   "outputs": [
    {
     "data": {
      "text/plain": [
       "array([ 0,  4,  8, 12, 16])"
      ]
     },
     "execution_count": 22,
     "metadata": {},
     "output_type": "execute_result"
    }
   ],
   "source": [
    "df['column1'].unique()"
   ]
  },
  {
   "cell_type": "code",
   "execution_count": 7,
   "id": "a107dd04-5c34-474d-b276-177c1fcc6812",
   "metadata": {},
   "outputs": [
    {
     "name": "stdout",
     "output_type": "stream",
     "text": [
      "   hours_coding  coffee_intake_mg  distractions  sleep_hours  commits  \\\n",
      "0          5.99               600             1          5.8        2   \n",
      "1          4.72               568             2          6.9        5   \n",
      "2          6.30               560             1          8.9        2   \n",
      "3          8.05               600             7          6.3        9   \n",
      "4          4.53               421             6          6.9        4   \n",
      "\n",
      "   bugs_reported  ai_usage_hours  cognitive_load  task_success  \n",
      "0              1            0.71             5.4             1  \n",
      "1              3            1.75             4.7             1  \n",
      "2              0            2.27             2.2             1  \n",
      "3              5            1.40             5.9             0  \n",
      "4              0            1.26             6.3             1  \n"
     ]
    }
   ],
   "source": [
    "df=pd.read_csv('ai_dev_productivity.csv')\n",
    "print(df. head())"
   ]
  },
  {
   "cell_type": "code",
   "execution_count": 8,
   "id": "1b4d3141-910d-48f3-a1b3-960d4ed5a269",
   "metadata": {},
   "outputs": [
    {
     "name": "stdout",
     "output_type": "stream",
     "text": [
      "<class 'pandas.core.frame.DataFrame'>\n",
      "RangeIndex: 500 entries, 0 to 499\n",
      "Data columns (total 9 columns):\n",
      " #   Column            Non-Null Count  Dtype  \n",
      "---  ------            --------------  -----  \n",
      " 0   hours_coding      500 non-null    float64\n",
      " 1   coffee_intake_mg  500 non-null    int64  \n",
      " 2   distractions      500 non-null    int64  \n",
      " 3   sleep_hours       500 non-null    float64\n",
      " 4   commits           500 non-null    int64  \n",
      " 5   bugs_reported     500 non-null    int64  \n",
      " 6   ai_usage_hours    500 non-null    float64\n",
      " 7   cognitive_load    500 non-null    float64\n",
      " 8   task_success      500 non-null    int64  \n",
      "dtypes: float64(4), int64(5)\n",
      "memory usage: 35.3 KB\n"
     ]
    }
   ],
   "source": [
    "df .info()"
   ]
  },
  {
   "cell_type": "code",
   "execution_count": 9,
   "id": "e99f7a7f-662b-4e1d-9685-203a41934450",
   "metadata": {},
   "outputs": [
    {
     "data": {
      "text/html": [
       "<div>\n",
       "<style scoped>\n",
       "    .dataframe tbody tr th:only-of-type {\n",
       "        vertical-align: middle;\n",
       "    }\n",
       "\n",
       "    .dataframe tbody tr th {\n",
       "        vertical-align: top;\n",
       "    }\n",
       "\n",
       "    .dataframe thead th {\n",
       "        text-align: right;\n",
       "    }\n",
       "</style>\n",
       "<table border=\"1\" class=\"dataframe\">\n",
       "  <thead>\n",
       "    <tr style=\"text-align: right;\">\n",
       "      <th></th>\n",
       "      <th>hours_coding</th>\n",
       "      <th>coffee_intake_mg</th>\n",
       "      <th>distractions</th>\n",
       "      <th>sleep_hours</th>\n",
       "      <th>commits</th>\n",
       "      <th>bugs_reported</th>\n",
       "      <th>ai_usage_hours</th>\n",
       "      <th>cognitive_load</th>\n",
       "      <th>task_success</th>\n",
       "    </tr>\n",
       "  </thead>\n",
       "  <tbody>\n",
       "    <tr>\n",
       "      <th>count</th>\n",
       "      <td>500.000000</td>\n",
       "      <td>500.000000</td>\n",
       "      <td>500.000000</td>\n",
       "      <td>500.000000</td>\n",
       "      <td>500.00000</td>\n",
       "      <td>500.000000</td>\n",
       "      <td>500.000000</td>\n",
       "      <td>500.000000</td>\n",
       "      <td>500.000000</td>\n",
       "    </tr>\n",
       "    <tr>\n",
       "      <th>mean</th>\n",
       "      <td>5.015600</td>\n",
       "      <td>463.192000</td>\n",
       "      <td>2.976000</td>\n",
       "      <td>6.975800</td>\n",
       "      <td>4.60800</td>\n",
       "      <td>0.858000</td>\n",
       "      <td>1.510920</td>\n",
       "      <td>4.498200</td>\n",
       "      <td>0.606000</td>\n",
       "    </tr>\n",
       "    <tr>\n",
       "      <th>std</th>\n",
       "      <td>1.947253</td>\n",
       "      <td>142.334991</td>\n",
       "      <td>1.678409</td>\n",
       "      <td>1.455965</td>\n",
       "      <td>2.70499</td>\n",
       "      <td>1.102846</td>\n",
       "      <td>1.085557</td>\n",
       "      <td>1.868861</td>\n",
       "      <td>0.489124</td>\n",
       "    </tr>\n",
       "    <tr>\n",
       "      <th>min</th>\n",
       "      <td>0.000000</td>\n",
       "      <td>6.000000</td>\n",
       "      <td>0.000000</td>\n",
       "      <td>3.000000</td>\n",
       "      <td>0.00000</td>\n",
       "      <td>0.000000</td>\n",
       "      <td>0.000000</td>\n",
       "      <td>1.000000</td>\n",
       "      <td>0.000000</td>\n",
       "    </tr>\n",
       "    <tr>\n",
       "      <th>25%</th>\n",
       "      <td>3.600000</td>\n",
       "      <td>369.500000</td>\n",
       "      <td>2.000000</td>\n",
       "      <td>6.100000</td>\n",
       "      <td>3.00000</td>\n",
       "      <td>0.000000</td>\n",
       "      <td>0.697500</td>\n",
       "      <td>3.175000</td>\n",
       "      <td>0.000000</td>\n",
       "    </tr>\n",
       "    <tr>\n",
       "      <th>50%</th>\n",
       "      <td>5.030000</td>\n",
       "      <td>500.500000</td>\n",
       "      <td>3.000000</td>\n",
       "      <td>6.950000</td>\n",
       "      <td>5.00000</td>\n",
       "      <td>0.000000</td>\n",
       "      <td>1.260000</td>\n",
       "      <td>4.400000</td>\n",
       "      <td>1.000000</td>\n",
       "    </tr>\n",
       "    <tr>\n",
       "      <th>75%</th>\n",
       "      <td>6.275000</td>\n",
       "      <td>600.000000</td>\n",
       "      <td>4.000000</td>\n",
       "      <td>7.900000</td>\n",
       "      <td>6.00000</td>\n",
       "      <td>2.000000</td>\n",
       "      <td>2.070000</td>\n",
       "      <td>5.800000</td>\n",
       "      <td>1.000000</td>\n",
       "    </tr>\n",
       "    <tr>\n",
       "      <th>max</th>\n",
       "      <td>12.000000</td>\n",
       "      <td>600.000000</td>\n",
       "      <td>8.000000</td>\n",
       "      <td>10.000000</td>\n",
       "      <td>13.00000</td>\n",
       "      <td>5.000000</td>\n",
       "      <td>6.360000</td>\n",
       "      <td>10.000000</td>\n",
       "      <td>1.000000</td>\n",
       "    </tr>\n",
       "  </tbody>\n",
       "</table>\n",
       "</div>"
      ],
      "text/plain": [
       "       hours_coding  coffee_intake_mg  distractions  sleep_hours    commits  \\\n",
       "count    500.000000        500.000000    500.000000   500.000000  500.00000   \n",
       "mean       5.015600        463.192000      2.976000     6.975800    4.60800   \n",
       "std        1.947253        142.334991      1.678409     1.455965    2.70499   \n",
       "min        0.000000          6.000000      0.000000     3.000000    0.00000   \n",
       "25%        3.600000        369.500000      2.000000     6.100000    3.00000   \n",
       "50%        5.030000        500.500000      3.000000     6.950000    5.00000   \n",
       "75%        6.275000        600.000000      4.000000     7.900000    6.00000   \n",
       "max       12.000000        600.000000      8.000000    10.000000   13.00000   \n",
       "\n",
       "       bugs_reported  ai_usage_hours  cognitive_load  task_success  \n",
       "count     500.000000      500.000000      500.000000    500.000000  \n",
       "mean        0.858000        1.510920        4.498200      0.606000  \n",
       "std         1.102846        1.085557        1.868861      0.489124  \n",
       "min         0.000000        0.000000        1.000000      0.000000  \n",
       "25%         0.000000        0.697500        3.175000      0.000000  \n",
       "50%         0.000000        1.260000        4.400000      1.000000  \n",
       "75%         2.000000        2.070000        5.800000      1.000000  \n",
       "max         5.000000        6.360000       10.000000      1.000000  "
      ]
     },
     "execution_count": 9,
     "metadata": {},
     "output_type": "execute_result"
    }
   ],
   "source": [
    "df.describe()"
   ]
  },
  {
   "cell_type": "code",
   "execution_count": 16,
   "id": "3a3d49c2-b80f-4c89-a299-cbfea4c87243",
   "metadata": {},
   "outputs": [
    {
     "data": {
      "text/html": [
       "<div>\n",
       "<style scoped>\n",
       "    .dataframe tbody tr th:only-of-type {\n",
       "        vertical-align: middle;\n",
       "    }\n",
       "\n",
       "    .dataframe tbody tr th {\n",
       "        vertical-align: top;\n",
       "    }\n",
       "\n",
       "    .dataframe thead th {\n",
       "        text-align: right;\n",
       "    }\n",
       "</style>\n",
       "<table border=\"1\" class=\"dataframe\">\n",
       "  <thead>\n",
       "    <tr style=\"text-align: right;\">\n",
       "      <th></th>\n",
       "      <th>Unnamed: 0</th>\n",
       "      <th>column1</th>\n",
       "      <th>column2</th>\n",
       "      <th>column3</th>\n",
       "      <th>column4</th>\n",
       "    </tr>\n",
       "  </thead>\n",
       "  <tbody>\n",
       "    <tr>\n",
       "      <th>0</th>\n",
       "      <td>Row1</td>\n",
       "      <td>0</td>\n",
       "      <td>1</td>\n",
       "      <td>2</td>\n",
       "      <td>3</td>\n",
       "    </tr>\n",
       "    <tr>\n",
       "      <th>1</th>\n",
       "      <td>Row2</td>\n",
       "      <td>4</td>\n",
       "      <td>5</td>\n",
       "      <td>6</td>\n",
       "      <td>7</td>\n",
       "    </tr>\n",
       "    <tr>\n",
       "      <th>2</th>\n",
       "      <td>Row3</td>\n",
       "      <td>8</td>\n",
       "      <td>9</td>\n",
       "      <td>10</td>\n",
       "      <td>11</td>\n",
       "    </tr>\n",
       "    <tr>\n",
       "      <th>3</th>\n",
       "      <td>Row4</td>\n",
       "      <td>12</td>\n",
       "      <td>13</td>\n",
       "      <td>14</td>\n",
       "      <td>15</td>\n",
       "    </tr>\n",
       "    <tr>\n",
       "      <th>4</th>\n",
       "      <td>Row5</td>\n",
       "      <td>16</td>\n",
       "      <td>17</td>\n",
       "      <td>18</td>\n",
       "      <td>19</td>\n",
       "    </tr>\n",
       "  </tbody>\n",
       "</table>\n",
       "</div>"
      ],
      "text/plain": [
       "  Unnamed: 0  column1  column2  column3  column4\n",
       "0       Row1        0        1        2        3\n",
       "1       Row2        4        5        6        7\n",
       "2       Row3        8        9       10       11\n",
       "3       Row4       12       13       14       15\n",
       "4       Row5       16       17       18       19"
      ]
     },
     "execution_count": 16,
     "metadata": {},
     "output_type": "execute_result"
    }
   ],
   "source": [
    "test_df=pd.read_csv('Test2.csv.txt', sep=';')\n",
    "test_df.head()"
   ]
  },
  {
   "cell_type": "code",
   "execution_count": 17,
   "id": "e709f9b4-81b5-4e64-b003-caa128877eaa",
   "metadata": {},
   "outputs": [
    {
     "data": {
      "text/plain": [
       "bugs_reported\n",
       "0    261\n",
       "1    112\n",
       "2     80\n",
       "3     35\n",
       "4      8\n",
       "5      4\n",
       "Name: count, dtype: int64"
      ]
     },
     "execution_count": 17,
     "metadata": {},
     "output_type": "execute_result"
    }
   ],
   "source": [
    "df['bugs_reported'].value_counts()"
   ]
  },
  {
   "cell_type": "code",
   "execution_count": 20,
   "id": "12109996-04ef-4388-9062-01d83bae17ec",
   "metadata": {},
   "outputs": [
    {
     "data": {
      "text/html": [
       "<div>\n",
       "<style scoped>\n",
       "    .dataframe tbody tr th:only-of-type {\n",
       "        vertical-align: middle;\n",
       "    }\n",
       "\n",
       "    .dataframe tbody tr th {\n",
       "        vertical-align: top;\n",
       "    }\n",
       "\n",
       "    .dataframe thead th {\n",
       "        text-align: right;\n",
       "    }\n",
       "</style>\n",
       "<table border=\"1\" class=\"dataframe\">\n",
       "  <thead>\n",
       "    <tr style=\"text-align: right;\">\n",
       "      <th></th>\n",
       "      <th>hours_coding</th>\n",
       "      <th>coffee_intake_mg</th>\n",
       "      <th>distractions</th>\n",
       "      <th>sleep_hours</th>\n",
       "      <th>commits</th>\n",
       "      <th>bugs_reported</th>\n",
       "      <th>ai_usage_hours</th>\n",
       "      <th>cognitive_load</th>\n",
       "      <th>task_success</th>\n",
       "    </tr>\n",
       "  </thead>\n",
       "  <tbody>\n",
       "    <tr>\n",
       "      <th>0</th>\n",
       "      <td>5.99</td>\n",
       "      <td>600</td>\n",
       "      <td>1</td>\n",
       "      <td>5.8</td>\n",
       "      <td>2</td>\n",
       "      <td>1</td>\n",
       "      <td>0.71</td>\n",
       "      <td>5.4</td>\n",
       "      <td>1</td>\n",
       "    </tr>\n",
       "    <tr>\n",
       "      <th>1</th>\n",
       "      <td>4.72</td>\n",
       "      <td>568</td>\n",
       "      <td>2</td>\n",
       "      <td>6.9</td>\n",
       "      <td>5</td>\n",
       "      <td>3</td>\n",
       "      <td>1.75</td>\n",
       "      <td>4.7</td>\n",
       "      <td>1</td>\n",
       "    </tr>\n",
       "    <tr>\n",
       "      <th>2</th>\n",
       "      <td>6.30</td>\n",
       "      <td>560</td>\n",
       "      <td>1</td>\n",
       "      <td>8.9</td>\n",
       "      <td>2</td>\n",
       "      <td>0</td>\n",
       "      <td>2.27</td>\n",
       "      <td>2.2</td>\n",
       "      <td>1</td>\n",
       "    </tr>\n",
       "    <tr>\n",
       "      <th>3</th>\n",
       "      <td>8.05</td>\n",
       "      <td>600</td>\n",
       "      <td>7</td>\n",
       "      <td>6.3</td>\n",
       "      <td>9</td>\n",
       "      <td>5</td>\n",
       "      <td>1.40</td>\n",
       "      <td>5.9</td>\n",
       "      <td>0</td>\n",
       "    </tr>\n",
       "    <tr>\n",
       "      <th>4</th>\n",
       "      <td>4.53</td>\n",
       "      <td>421</td>\n",
       "      <td>6</td>\n",
       "      <td>6.9</td>\n",
       "      <td>4</td>\n",
       "      <td>0</td>\n",
       "      <td>1.26</td>\n",
       "      <td>6.3</td>\n",
       "      <td>1</td>\n",
       "    </tr>\n",
       "    <tr>\n",
       "      <th>...</th>\n",
       "      <td>...</td>\n",
       "      <td>...</td>\n",
       "      <td>...</td>\n",
       "      <td>...</td>\n",
       "      <td>...</td>\n",
       "      <td>...</td>\n",
       "      <td>...</td>\n",
       "      <td>...</td>\n",
       "      <td>...</td>\n",
       "    </tr>\n",
       "    <tr>\n",
       "      <th>495</th>\n",
       "      <td>6.08</td>\n",
       "      <td>594</td>\n",
       "      <td>1</td>\n",
       "      <td>5.3</td>\n",
       "      <td>3</td>\n",
       "      <td>0</td>\n",
       "      <td>0.91</td>\n",
       "      <td>6.8</td>\n",
       "      <td>1</td>\n",
       "    </tr>\n",
       "    <tr>\n",
       "      <th>496</th>\n",
       "      <td>2.93</td>\n",
       "      <td>382</td>\n",
       "      <td>2</td>\n",
       "      <td>6.7</td>\n",
       "      <td>3</td>\n",
       "      <td>2</td>\n",
       "      <td>1.38</td>\n",
       "      <td>5.9</td>\n",
       "      <td>0</td>\n",
       "    </tr>\n",
       "    <tr>\n",
       "      <th>497</th>\n",
       "      <td>4.62</td>\n",
       "      <td>494</td>\n",
       "      <td>4</td>\n",
       "      <td>7.5</td>\n",
       "      <td>2</td>\n",
       "      <td>0</td>\n",
       "      <td>0.41</td>\n",
       "      <td>4.5</td>\n",
       "      <td>1</td>\n",
       "    </tr>\n",
       "    <tr>\n",
       "      <th>498</th>\n",
       "      <td>3.25</td>\n",
       "      <td>296</td>\n",
       "      <td>6</td>\n",
       "      <td>6.9</td>\n",
       "      <td>1</td>\n",
       "      <td>0</td>\n",
       "      <td>1.52</td>\n",
       "      <td>6.3</td>\n",
       "      <td>0</td>\n",
       "    </tr>\n",
       "    <tr>\n",
       "      <th>499</th>\n",
       "      <td>2.23</td>\n",
       "      <td>252</td>\n",
       "      <td>4</td>\n",
       "      <td>8.8</td>\n",
       "      <td>0</td>\n",
       "      <td>0</td>\n",
       "      <td>1.05</td>\n",
       "      <td>2.6</td>\n",
       "      <td>0</td>\n",
       "    </tr>\n",
       "  </tbody>\n",
       "</table>\n",
       "<p>493 rows × 9 columns</p>\n",
       "</div>"
      ],
      "text/plain": [
       "     hours_coding  coffee_intake_mg  distractions  sleep_hours  commits  \\\n",
       "0            5.99               600             1          5.8        2   \n",
       "1            4.72               568             2          6.9        5   \n",
       "2            6.30               560             1          8.9        2   \n",
       "3            8.05               600             7          6.3        9   \n",
       "4            4.53               421             6          6.9        4   \n",
       "..            ...               ...           ...          ...      ...   \n",
       "495          6.08               594             1          5.3        3   \n",
       "496          2.93               382             2          6.7        3   \n",
       "497          4.62               494             4          7.5        2   \n",
       "498          3.25               296             6          6.9        1   \n",
       "499          2.23               252             4          8.8        0   \n",
       "\n",
       "     bugs_reported  ai_usage_hours  cognitive_load  task_success  \n",
       "0                1            0.71             5.4             1  \n",
       "1                3            1.75             4.7             1  \n",
       "2                0            2.27             2.2             1  \n",
       "3                5            1.40             5.9             0  \n",
       "4                0            1.26             6.3             1  \n",
       "..             ...             ...             ...           ...  \n",
       "495              0            0.91             6.8             1  \n",
       "496              2            1.38             5.9             0  \n",
       "497              0            0.41             4.5             1  \n",
       "498              0            1.52             6.3             0  \n",
       "499              0            1.05             2.6             0  \n",
       "\n",
       "[493 rows x 9 columns]"
      ]
     },
     "execution_count": 20,
     "metadata": {},
     "output_type": "execute_result"
    }
   ],
   "source": [
    "df[df['coffee_intake_mg']>100]"
   ]
  },
  {
   "cell_type": "code",
   "execution_count": 48,
   "id": "aa12455e-64da-482a-a212-edc987e48cf9",
   "metadata": {},
   "outputs": [],
   "source": [
    "from io import StringIO, BytesIO"
   ]
  },
  {
   "cell_type": "code",
   "execution_count": 49,
   "id": "fef31cc9-6fc9-4357-986f-f0f8d8202765",
   "metadata": {},
   "outputs": [],
   "source": [
    "data = ('col1,col2,col3\\n' 'x,y,1\\n' 'a,b,2\\n' 'c,d,3')"
   ]
  },
  {
   "cell_type": "code",
   "execution_count": 50,
   "id": "69eabec5-9ad0-4924-8988-6c280ab10e71",
   "metadata": {},
   "outputs": [
    {
     "data": {
      "text/plain": [
       "str"
      ]
     },
     "execution_count": 50,
     "metadata": {},
     "output_type": "execute_result"
    }
   ],
   "source": [
    "type(data)"
   ]
  },
  {
   "cell_type": "code",
   "execution_count": 51,
   "id": "b8603397-cade-4743-a517-01e390b3ffe8",
   "metadata": {
    "scrolled": true
   },
   "outputs": [],
   "source": [
    "#Read from specific columns\n",
    "df2=pd.read_csv(StringIO(data), usecols=['col1','col3'])"
   ]
  },
  {
   "cell_type": "code",
   "execution_count": 52,
   "id": "ac6e15cd-a7d2-4e98-8375-a5b8c89ff84b",
   "metadata": {},
   "outputs": [
    {
     "data": {
      "text/html": [
       "<div>\n",
       "<style scoped>\n",
       "    .dataframe tbody tr th:only-of-type {\n",
       "        vertical-align: middle;\n",
       "    }\n",
       "\n",
       "    .dataframe tbody tr th {\n",
       "        vertical-align: top;\n",
       "    }\n",
       "\n",
       "    .dataframe thead th {\n",
       "        text-align: right;\n",
       "    }\n",
       "</style>\n",
       "<table border=\"1\" class=\"dataframe\">\n",
       "  <thead>\n",
       "    <tr style=\"text-align: right;\">\n",
       "      <th></th>\n",
       "      <th>col1</th>\n",
       "      <th>col3</th>\n",
       "    </tr>\n",
       "  </thead>\n",
       "  <tbody>\n",
       "    <tr>\n",
       "      <th>0</th>\n",
       "      <td>x</td>\n",
       "      <td>1</td>\n",
       "    </tr>\n",
       "    <tr>\n",
       "      <th>1</th>\n",
       "      <td>a</td>\n",
       "      <td>2</td>\n",
       "    </tr>\n",
       "    <tr>\n",
       "      <th>2</th>\n",
       "      <td>c</td>\n",
       "      <td>3</td>\n",
       "    </tr>\n",
       "  </tbody>\n",
       "</table>\n",
       "</div>"
      ],
      "text/plain": [
       "  col1  col3\n",
       "0    x     1\n",
       "1    a     2\n",
       "2    c     3"
      ]
     },
     "execution_count": 52,
     "metadata": {},
     "output_type": "execute_result"
    }
   ],
   "source": [
    "df2"
   ]
  },
  {
   "cell_type": "code",
   "execution_count": 53,
   "id": "bf177819-ba98-4b53-a501-92dcfbb4d294",
   "metadata": {},
   "outputs": [],
   "source": [
    "df2.to_csv('test3.csv')"
   ]
  },
  {
   "cell_type": "code",
   "execution_count": 59,
   "id": "0842c42b-bbba-40fc-9e97-c8aa876a3d46",
   "metadata": {},
   "outputs": [],
   "source": [
    "#specifying columns data types\n",
    "data = ('a,b,c,d\\n' '1,2,3,4\\n' '5,6,7,8\\n' '9,10,11,12\\n')"
   ]
  },
  {
   "cell_type": "code",
   "execution_count": 60,
   "id": "83c924ae-02fc-4e25-8508-23a3b7ebabc1",
   "metadata": {},
   "outputs": [
    {
     "name": "stdout",
     "output_type": "stream",
     "text": [
      "a,b,c,d\n",
      "1,2,3,4\n",
      "5,6,7,8\n",
      "9,10,11,12\n",
      "\n"
     ]
    }
   ],
   "source": [
    "print(data)"
   ]
  },
  {
   "cell_type": "code",
   "execution_count": 71,
   "id": "893d4a8f-2494-462e-9988-64bce189ce2a",
   "metadata": {},
   "outputs": [
    {
     "data": {
      "text/html": [
       "<div>\n",
       "<style scoped>\n",
       "    .dataframe tbody tr th:only-of-type {\n",
       "        vertical-align: middle;\n",
       "    }\n",
       "\n",
       "    .dataframe tbody tr th {\n",
       "        vertical-align: top;\n",
       "    }\n",
       "\n",
       "    .dataframe thead th {\n",
       "        text-align: right;\n",
       "    }\n",
       "</style>\n",
       "<table border=\"1\" class=\"dataframe\">\n",
       "  <thead>\n",
       "    <tr style=\"text-align: right;\">\n",
       "      <th></th>\n",
       "      <th>a</th>\n",
       "      <th>b</th>\n",
       "      <th>c</th>\n",
       "      <th>d</th>\n",
       "    </tr>\n",
       "  </thead>\n",
       "  <tbody>\n",
       "    <tr>\n",
       "      <th>0</th>\n",
       "      <td>1</td>\n",
       "      <td>2</td>\n",
       "      <td>3.0</td>\n",
       "      <td>4</td>\n",
       "    </tr>\n",
       "    <tr>\n",
       "      <th>1</th>\n",
       "      <td>5</td>\n",
       "      <td>6</td>\n",
       "      <td>7.0</td>\n",
       "      <td>8</td>\n",
       "    </tr>\n",
       "    <tr>\n",
       "      <th>2</th>\n",
       "      <td>9</td>\n",
       "      <td>10</td>\n",
       "      <td>11.0</td>\n",
       "      <td>12</td>\n",
       "    </tr>\n",
       "  </tbody>\n",
       "</table>\n",
       "</div>"
      ],
      "text/plain": [
       "   a   b     c   d\n",
       "0  1   2   3.0   4\n",
       "1  5   6   7.0   8\n",
       "2  9  10  11.0  12"
      ]
     },
     "execution_count": 71,
     "metadata": {},
     "output_type": "execute_result"
    }
   ],
   "source": [
    "df3 = pd.read_csv(StringIO(data), dtype={'b':int, 'c':float,'a':'Int64'})\n",
    "df3"
   ]
  },
  {
   "cell_type": "code",
   "execution_count": 72,
   "id": "ee78789c-c378-47c4-82ba-6885057b0ae5",
   "metadata": {},
   "outputs": [
    {
     "data": {
      "text/plain": [
       "0    1\n",
       "1    5\n",
       "2    9\n",
       "Name: a, dtype: Int64"
      ]
     },
     "execution_count": 72,
     "metadata": {},
     "output_type": "execute_result"
    }
   ],
   "source": [
    "df3['a']"
   ]
  },
  {
   "cell_type": "code",
   "execution_count": 73,
   "id": "b2afb130-db5e-4310-888d-25dbe9a50a8e",
   "metadata": {},
   "outputs": [
    {
     "data": {
      "text/plain": [
       "a      Int64\n",
       "b      int32\n",
       "c    float64\n",
       "d      int64\n",
       "dtype: object"
      ]
     },
     "execution_count": 73,
     "metadata": {},
     "output_type": "execute_result"
    }
   ],
   "source": [
    "df3.dtypes"
   ]
  },
  {
   "cell_type": "code",
   "execution_count": 74,
   "id": "2dc84b5e-f1be-41c5-b2b5-a42d8b330f2d",
   "metadata": {},
   "outputs": [],
   "source": [
    "data  = ('index,a,b,c\\n' '4,apple,bat,5.7\\n' '8,orange,cow,10')"
   ]
  },
  {
   "cell_type": "code",
   "execution_count": 78,
   "id": "8fbf818c-408f-41b1-bb5c-7010c6e2097f",
   "metadata": {},
   "outputs": [
    {
     "data": {
      "text/html": [
       "<div>\n",
       "<style scoped>\n",
       "    .dataframe tbody tr th:only-of-type {\n",
       "        vertical-align: middle;\n",
       "    }\n",
       "\n",
       "    .dataframe tbody tr th {\n",
       "        vertical-align: top;\n",
       "    }\n",
       "\n",
       "    .dataframe thead th {\n",
       "        text-align: right;\n",
       "    }\n",
       "</style>\n",
       "<table border=\"1\" class=\"dataframe\">\n",
       "  <thead>\n",
       "    <tr style=\"text-align: right;\">\n",
       "      <th></th>\n",
       "      <th>index</th>\n",
       "      <th>a</th>\n",
       "      <th>b</th>\n",
       "      <th>c</th>\n",
       "    </tr>\n",
       "  </thead>\n",
       "  <tbody>\n",
       "    <tr>\n",
       "      <th>0</th>\n",
       "      <td>4</td>\n",
       "      <td>apple</td>\n",
       "      <td>bat</td>\n",
       "      <td>5.7</td>\n",
       "    </tr>\n",
       "    <tr>\n",
       "      <th>1</th>\n",
       "      <td>8</td>\n",
       "      <td>orange</td>\n",
       "      <td>cow</td>\n",
       "      <td>10.0</td>\n",
       "    </tr>\n",
       "  </tbody>\n",
       "</table>\n",
       "</div>"
      ],
      "text/plain": [
       "   index       a    b     c\n",
       "0      4   apple  bat   5.7\n",
       "1      8  orange  cow  10.0"
      ]
     },
     "execution_count": 78,
     "metadata": {},
     "output_type": "execute_result"
    }
   ],
   "source": [
    "df4 = pd.read_csv(StringIO(data))\n",
    "df4"
   ]
  },
  {
   "cell_type": "code",
   "execution_count": 84,
   "id": "aaee470a-e70d-40c3-bd16-51186b4d9d0a",
   "metadata": {},
   "outputs": [
    {
     "data": {
      "text/html": [
       "<div>\n",
       "<style scoped>\n",
       "    .dataframe tbody tr th:only-of-type {\n",
       "        vertical-align: middle;\n",
       "    }\n",
       "\n",
       "    .dataframe tbody tr th {\n",
       "        vertical-align: top;\n",
       "    }\n",
       "\n",
       "    .dataframe thead th {\n",
       "        text-align: right;\n",
       "    }\n",
       "</style>\n",
       "<table border=\"1\" class=\"dataframe\">\n",
       "  <thead>\n",
       "    <tr style=\"text-align: right;\">\n",
       "      <th></th>\n",
       "      <th>a</th>\n",
       "      <th>b</th>\n",
       "      <th>c</th>\n",
       "    </tr>\n",
       "    <tr>\n",
       "      <th>index</th>\n",
       "      <th></th>\n",
       "      <th></th>\n",
       "      <th></th>\n",
       "    </tr>\n",
       "  </thead>\n",
       "  <tbody>\n",
       "    <tr>\n",
       "      <th>4</th>\n",
       "      <td>apple</td>\n",
       "      <td>bat</td>\n",
       "      <td>5.7</td>\n",
       "    </tr>\n",
       "    <tr>\n",
       "      <th>8</th>\n",
       "      <td>orange</td>\n",
       "      <td>cow</td>\n",
       "      <td>10.0</td>\n",
       "    </tr>\n",
       "  </tbody>\n",
       "</table>\n",
       "</div>"
      ],
      "text/plain": [
       "            a    b     c\n",
       "index                   \n",
       "4       apple  bat   5.7\n",
       "8      orange  cow  10.0"
      ]
     },
     "execution_count": 84,
     "metadata": {},
     "output_type": "execute_result"
    }
   ],
   "source": [
    "df4 = pd.read_csv(StringIO(data), index_col=0)\n",
    "df4"
   ]
  },
  {
   "cell_type": "code",
   "execution_count": 88,
   "id": "ae16d054-0fdd-4955-8cbe-71edcd41666a",
   "metadata": {},
   "outputs": [
    {
     "data": {
      "text/plain": [
       "5.7"
      ]
     },
     "execution_count": 88,
     "metadata": {},
     "output_type": "execute_result"
    }
   ],
   "source": [
    "df4['c'][4]"
   ]
  },
  {
   "cell_type": "code",
   "execution_count": 89,
   "id": "0d599312-12e3-4c64-9a67-1bd40ac10945",
   "metadata": {},
   "outputs": [
    {
     "data": {
      "text/plain": [
       "'a,b,c\\n4,apple,bat,\\n8,orange,cow'"
      ]
     },
     "execution_count": 89,
     "metadata": {},
     "output_type": "execute_result"
    }
   ],
   "source": [
    "data = ('a,b,c\\n' '4,apple,bat,\\n' '8,orange,cow')\n"
   ]
  },
  {
   "cell_type": "code",
   "execution_count": 90,
   "id": "85f2e70c-d169-4f99-964f-aaba74fc8290",
   "metadata": {},
   "outputs": [
    {
     "data": {
      "text/html": [
       "<div>\n",
       "<style scoped>\n",
       "    .dataframe tbody tr th:only-of-type {\n",
       "        vertical-align: middle;\n",
       "    }\n",
       "\n",
       "    .dataframe tbody tr th {\n",
       "        vertical-align: top;\n",
       "    }\n",
       "\n",
       "    .dataframe thead th {\n",
       "        text-align: right;\n",
       "    }\n",
       "</style>\n",
       "<table border=\"1\" class=\"dataframe\">\n",
       "  <thead>\n",
       "    <tr style=\"text-align: right;\">\n",
       "      <th></th>\n",
       "      <th>a</th>\n",
       "      <th>b</th>\n",
       "      <th>c</th>\n",
       "    </tr>\n",
       "  </thead>\n",
       "  <tbody>\n",
       "    <tr>\n",
       "      <th>4</th>\n",
       "      <td>apple</td>\n",
       "      <td>bat</td>\n",
       "      <td>NaN</td>\n",
       "    </tr>\n",
       "    <tr>\n",
       "      <th>8</th>\n",
       "      <td>orange</td>\n",
       "      <td>cow</td>\n",
       "      <td>NaN</td>\n",
       "    </tr>\n",
       "  </tbody>\n",
       "</table>\n",
       "</div>"
      ],
      "text/plain": [
       "        a    b   c\n",
       "4   apple  bat NaN\n",
       "8  orange  cow NaN"
      ]
     },
     "execution_count": 90,
     "metadata": {},
     "output_type": "execute_result"
    }
   ],
   "source": [
    "# whenever datatype is not specified  even values specified for column is taken as index eX: 4 and 8 here\n",
    "\n",
    "pd.read_csv(StringIO(data))"
   ]
  },
  {
   "cell_type": "code",
   "execution_count": 92,
   "id": "a66e70cb-d22e-4215-aca3-4b2721a0a8f0",
   "metadata": {},
   "outputs": [
    {
     "data": {
      "text/html": [
       "<div>\n",
       "<style scoped>\n",
       "    .dataframe tbody tr th:only-of-type {\n",
       "        vertical-align: middle;\n",
       "    }\n",
       "\n",
       "    .dataframe tbody tr th {\n",
       "        vertical-align: top;\n",
       "    }\n",
       "\n",
       "    .dataframe thead th {\n",
       "        text-align: right;\n",
       "    }\n",
       "</style>\n",
       "<table border=\"1\" class=\"dataframe\">\n",
       "  <thead>\n",
       "    <tr style=\"text-align: right;\">\n",
       "      <th></th>\n",
       "      <th>a</th>\n",
       "      <th>b</th>\n",
       "      <th>c</th>\n",
       "    </tr>\n",
       "  </thead>\n",
       "  <tbody>\n",
       "    <tr>\n",
       "      <th>0</th>\n",
       "      <td>4</td>\n",
       "      <td>apple</td>\n",
       "      <td>bat</td>\n",
       "    </tr>\n",
       "    <tr>\n",
       "      <th>1</th>\n",
       "      <td>8</td>\n",
       "      <td>orange</td>\n",
       "      <td>cow</td>\n",
       "    </tr>\n",
       "  </tbody>\n",
       "</table>\n",
       "</div>"
      ],
      "text/plain": [
       "   a       b    c\n",
       "0  4   apple  bat\n",
       "1  8  orange  cow"
      ]
     },
     "execution_count": 92,
     "metadata": {},
     "output_type": "execute_result"
    }
   ],
   "source": [
    "# To get proper index we use index_col as false\n",
    "pd.read_csv(StringIO(data), index_col=False)"
   ]
  },
  {
   "cell_type": "code",
   "execution_count": 94,
   "id": "0ef7f6d5-896c-4248-9cc5-20b34dc1daa8",
   "metadata": {},
   "outputs": [],
   "source": [
    "#combining usecols and index_col\n",
    "data = ('a,b,c\\n' '4,apple,bat\\n' '8,orange,cow')"
   ]
  },
  {
   "cell_type": "code",
   "execution_count": 97,
   "id": "c06777b6-7767-4570-9382-f3582addfdba",
   "metadata": {},
   "outputs": [
    {
     "data": {
      "text/html": [
       "<div>\n",
       "<style scoped>\n",
       "    .dataframe tbody tr th:only-of-type {\n",
       "        vertical-align: middle;\n",
       "    }\n",
       "\n",
       "    .dataframe tbody tr th {\n",
       "        vertical-align: top;\n",
       "    }\n",
       "\n",
       "    .dataframe thead th {\n",
       "        text-align: right;\n",
       "    }\n",
       "</style>\n",
       "<table border=\"1\" class=\"dataframe\">\n",
       "  <thead>\n",
       "    <tr style=\"text-align: right;\">\n",
       "      <th></th>\n",
       "      <th>b</th>\n",
       "      <th>c</th>\n",
       "    </tr>\n",
       "  </thead>\n",
       "  <tbody>\n",
       "    <tr>\n",
       "      <th>0</th>\n",
       "      <td>apple</td>\n",
       "      <td>bat</td>\n",
       "    </tr>\n",
       "    <tr>\n",
       "      <th>1</th>\n",
       "      <td>orange</td>\n",
       "      <td>cow</td>\n",
       "    </tr>\n",
       "  </tbody>\n",
       "</table>\n",
       "</div>"
      ],
      "text/plain": [
       "        b    c\n",
       "0   apple  bat\n",
       "1  orange  cow"
      ]
     },
     "execution_count": 97,
     "metadata": {},
     "output_type": "execute_result"
    }
   ],
   "source": [
    "pd.read_csv(StringIO(data), usecols=['b','c'],index_col=False)"
   ]
  },
  {
   "cell_type": "code",
   "execution_count": 99,
   "id": "e5884a1c-940c-474b-8bb1-c200ca750d4e",
   "metadata": {},
   "outputs": [
    {
     "data": {
      "text/plain": [
       "'a,b\\n\\\\hello, \\\\\"Bob\\\\\", nice to see you\", 5'"
      ]
     },
     "execution_count": 99,
     "metadata": {},
     "output_type": "execute_result"
    }
   ],
   "source": [
    "data = 'a,b\\n\\\\hello, \\\\\"Bob\\\\\", nice to see you\", 5'\n",
    "data"
   ]
  },
  {
   "cell_type": "code",
   "execution_count": 100,
   "id": "98ee0558-ae55-4a20-affb-0f788880c480",
   "metadata": {},
   "outputs": [
    {
     "data": {
      "text/html": [
       "<div>\n",
       "<style scoped>\n",
       "    .dataframe tbody tr th:only-of-type {\n",
       "        vertical-align: middle;\n",
       "    }\n",
       "\n",
       "    .dataframe tbody tr th {\n",
       "        vertical-align: top;\n",
       "    }\n",
       "\n",
       "    .dataframe thead th {\n",
       "        text-align: right;\n",
       "    }\n",
       "</style>\n",
       "<table border=\"1\" class=\"dataframe\">\n",
       "  <thead>\n",
       "    <tr style=\"text-align: right;\">\n",
       "      <th></th>\n",
       "      <th></th>\n",
       "      <th>a</th>\n",
       "      <th>b</th>\n",
       "    </tr>\n",
       "  </thead>\n",
       "  <tbody>\n",
       "    <tr>\n",
       "      <th>\\hello</th>\n",
       "      <th>\\\"Bob\\\"</th>\n",
       "      <td>nice to see you\"</td>\n",
       "      <td>5</td>\n",
       "    </tr>\n",
       "  </tbody>\n",
       "</table>\n",
       "</div>"
      ],
      "text/plain": [
       "                                a  b\n",
       "\\hello \\\"Bob\\\"   nice to see you\"  5"
      ]
     },
     "execution_count": 100,
     "metadata": {},
     "output_type": "execute_result"
    }
   ],
   "source": [
    "pd.read_csv(StringIO(data))"
   ]
  },
  {
   "cell_type": "code",
   "execution_count": 101,
   "id": "85d11817-d244-4368-84e4-d0406d7772b7",
   "metadata": {},
   "outputs": [
    {
     "data": {
      "text/html": [
       "<div>\n",
       "<style scoped>\n",
       "    .dataframe tbody tr th:only-of-type {\n",
       "        vertical-align: middle;\n",
       "    }\n",
       "\n",
       "    .dataframe tbody tr th {\n",
       "        vertical-align: top;\n",
       "    }\n",
       "\n",
       "    .dataframe thead th {\n",
       "        text-align: right;\n",
       "    }\n",
       "</style>\n",
       "<table border=\"1\" class=\"dataframe\">\n",
       "  <thead>\n",
       "    <tr style=\"text-align: right;\">\n",
       "      <th></th>\n",
       "      <th></th>\n",
       "      <th>a</th>\n",
       "      <th>b</th>\n",
       "    </tr>\n",
       "  </thead>\n",
       "  <tbody>\n",
       "    <tr>\n",
       "      <th>hello</th>\n",
       "      <th>\"Bob\"</th>\n",
       "      <td>nice to see you\"</td>\n",
       "      <td>5</td>\n",
       "    </tr>\n",
       "  </tbody>\n",
       "</table>\n",
       "</div>"
      ],
      "text/plain": [
       "                             a  b\n",
       "hello \"Bob\"   nice to see you\"  5"
      ]
     },
     "execution_count": 101,
     "metadata": {},
     "output_type": "execute_result"
    }
   ],
   "source": [
    "pd.read_csv(StringIO(data), escapechar='\\\\')"
   ]
  },
  {
   "cell_type": "code",
   "execution_count": null,
   "id": "b890635b-25d4-4fd8-82ff-330f47636bb8",
   "metadata": {},
   "outputs": [],
   "source": []
  }
 ],
 "metadata": {
  "kernelspec": {
   "display_name": "Python [conda env:base] *",
   "language": "python",
   "name": "conda-base-py"
  },
  "language_info": {
   "codemirror_mode": {
    "name": "ipython",
    "version": 3
   },
   "file_extension": ".py",
   "mimetype": "text/x-python",
   "name": "python",
   "nbconvert_exporter": "python",
   "pygments_lexer": "ipython3",
   "version": "3.12.7"
  }
 },
 "nbformat": 4,
 "nbformat_minor": 5
}
